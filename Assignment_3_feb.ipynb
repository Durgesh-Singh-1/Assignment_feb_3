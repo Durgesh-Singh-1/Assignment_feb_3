{
 "cells": [
  {
   "cell_type": "code",
   "execution_count": 21,
   "id": "8ff2973f-a60c-4fa7-b923-08aa9107fba4",
   "metadata": {},
   "outputs": [],
   "source": [
    "# 1 ans :-"
   ]
  },
  {
   "cell_type": "code",
   "execution_count": 22,
   "id": "5f7a99a1-2733-49fa-afcd-8f3bef59cc19",
   "metadata": {},
   "outputs": [],
   "source": [
    "# def keywod \n",
    "def odd_number() :\n",
    "    odd_num = [] \n",
    "    for i in range(1,26) :\n",
    "        if i % 2 != 0 :\n",
    "            odd_num.append(i)\n",
    "    return odd_num"
   ]
  },
  {
   "cell_type": "code",
   "execution_count": 23,
   "id": "e9c926fa-f210-4dff-8c71-d30a3d46c834",
   "metadata": {},
   "outputs": [
    {
     "data": {
      "text/plain": [
       "[1, 3, 5, 7, 9, 11, 13, 15, 17, 19, 21, 23, 25]"
      ]
     },
     "execution_count": 23,
     "metadata": {},
     "output_type": "execute_result"
    }
   ],
   "source": [
    "odd_number()"
   ]
  },
  {
   "cell_type": "code",
   "execution_count": 3,
   "id": "6be255fb-63cf-4495-abf6-200770460153",
   "metadata": {},
   "outputs": [],
   "source": [
    "# 2 ans :-"
   ]
  },
  {
   "cell_type": "code",
   "execution_count": 4,
   "id": "7ecbd3b8-b67c-439c-981f-46f4b4d9d70a",
   "metadata": {},
   "outputs": [],
   "source": [
    "# *args is used to pass a variable lenght argument list .\n",
    "# *args as a tuple>\n",
    "# \n",
    "# ** kwards is used to pass variable lenght keyword argument list .\n",
    "# **kwards as a dictionary."
   ]
  },
  {
   "cell_type": "code",
   "execution_count": 7,
   "id": "c8b0f2eb-9bde-4acb-a81c-081b9c88dba2",
   "metadata": {},
   "outputs": [],
   "source": [
    "# *args :\n",
    "def fun1(*pwskills) :\n",
    "    return pwskills"
   ]
  },
  {
   "cell_type": "code",
   "execution_count": 8,
   "id": "2fa3fa23-378c-41fb-90d1-1c5e01ed9c3f",
   "metadata": {},
   "outputs": [
    {
     "data": {
      "text/plain": [
       "(1, 2, 3, 4, 5, 67)"
      ]
     },
     "execution_count": 8,
     "metadata": {},
     "output_type": "execute_result"
    }
   ],
   "source": [
    "fun1(1,2,3,4,5,67)"
   ]
  },
  {
   "cell_type": "code",
   "execution_count": 9,
   "id": "03368d11-d45e-4079-893b-4a7b29776d97",
   "metadata": {},
   "outputs": [],
   "source": [
    "# **kwards\n",
    "def fun2(**kwards) :\n",
    "    return kwards"
   ]
  },
  {
   "cell_type": "code",
   "execution_count": 10,
   "id": "5df2cdf7-eb73-44dc-beff-8b2a997611bf",
   "metadata": {},
   "outputs": [
    {
     "data": {
      "text/plain": [
       "{'a': [1, 2, 3, 4], 'b': 'pw skills', 'c': 'sudhanshu sir'}"
      ]
     },
     "execution_count": 10,
     "metadata": {},
     "output_type": "execute_result"
    }
   ],
   "source": [
    "fun2(a =[1,2,3,4],b = \"pw skills\", c = \"sudhanshu sir\")"
   ]
  },
  {
   "cell_type": "code",
   "execution_count": 24,
   "id": "b17a39fd-1f6e-4cd9-adee-f4db6cd1f87f",
   "metadata": {},
   "outputs": [],
   "source": [
    "# 3 .ans :-"
   ]
  },
  {
   "cell_type": "code",
   "execution_count": 29,
   "id": "4ddc66fa-bf59-421a-aa3d-6fcbba3c193a",
   "metadata": {},
   "outputs": [
    {
     "data": {
      "text/plain": [
       "' Iteration is the process of repeatedly execution a block of code until a certain condition is met \\n  for loop , while loop and comprehension'"
      ]
     },
     "execution_count": 29,
     "metadata": {},
     "output_type": "execute_result"
    }
   ],
   "source": [
    "# iteration :\n",
    "\"\"\" Iteration is the process of repeatedly execution a block of code until a certain condition is met \n",
    "  for loop , while loop and comprehension\"\"\" "
   ]
  },
  {
   "cell_type": "code",
   "execution_count": 34,
   "id": "9a92a4ea-bcc8-479b-b288-b727f43d8914",
   "metadata": {},
   "outputs": [
    {
     "name": "stdout",
     "output_type": "stream",
     "text": [
      "[2, 4, 6, 8, 10]\n"
     ]
    }
   ],
   "source": [
    "list = [2,4,6,8,10,12,14,16,18,20]\n",
    "print(list[:5])"
   ]
  },
  {
   "cell_type": "code",
   "execution_count": 35,
   "id": "63775131-2ee9-4909-ab16-d4a000d2cfac",
   "metadata": {},
   "outputs": [],
   "source": [
    "# ans :-"
   ]
  },
  {
   "cell_type": "code",
   "execution_count": 36,
   "id": "af056e9f-4058-4d8c-b089-c253bfbf2e10",
   "metadata": {},
   "outputs": [
    {
     "data": {
      "text/plain": [
       "' A generator is a special type  of iterator that produces values on the ply  \\n  instead of generating all the values at once and storing them in memory '"
      ]
     },
     "execution_count": 36,
     "metadata": {},
     "output_type": "execute_result"
    }
   ],
   "source": [
    "# Generator :- \n",
    "\"\"\" A generator is a special type  of iterator that produces values on the ply  \n",
    "  instead of generating all the values at once and storing them in memory \"\"\""
   ]
  },
  {
   "cell_type": "code",
   "execution_count": 38,
   "id": "8d76e214-87a6-4f04-acbd-608377de620f",
   "metadata": {},
   "outputs": [
    {
     "data": {
      "text/plain": [
       "<generator object even_number at 0x7f492ab5a3b0>"
      ]
     },
     "execution_count": 38,
     "metadata": {},
     "output_type": "execute_result"
    }
   ],
   "source": [
    "# example :\n",
    "def even_number(n) :\n",
    "    i = 0 \n",
    "    while i < n :\n",
    "        yield i * 2 \n",
    "        i += 1 \n",
    "even_number(5)"
   ]
  },
  {
   "cell_type": "code",
   "execution_count": 39,
   "id": "47fc7afb-ef32-4403-a5e9-0af7693a31cd",
   "metadata": {},
   "outputs": [],
   "source": [
    "# 6 ans :-"
   ]
  },
  {
   "cell_type": "code",
   "execution_count": 40,
   "id": "8548594f-73c4-4b82-8677-d08d4fe49294",
   "metadata": {},
   "outputs": [
    {
     "ename": "TypeError",
     "evalue": "prime_number() takes 0 positional arguments but 1 was given",
     "output_type": "error",
     "traceback": [
      "\u001b[0;31m---------------------------------------------------------------------------\u001b[0m",
      "\u001b[0;31mTypeError\u001b[0m                                 Traceback (most recent call last)",
      "Cell \u001b[0;32mIn[40], line 14\u001b[0m\n\u001b[1;32m     12\u001b[0m prime_gen \u001b[38;5;241m=\u001b[39m prime_number()\n\u001b[1;32m     13\u001b[0m \u001b[38;5;28;01mfor\u001b[39;00m i \u001b[38;5;129;01min\u001b[39;00m \u001b[38;5;28mrange\u001b[39m(\u001b[38;5;241m20\u001b[39m) :\n\u001b[0;32m---> 14\u001b[0m     \u001b[38;5;28mprint\u001b[39m(\u001b[38;5;28;43mnext\u001b[39;49m\u001b[43m(\u001b[49m\u001b[43mprime_gen\u001b[49m\u001b[43m)\u001b[49m)\n",
      "Cell \u001b[0;32mIn[40], line 9\u001b[0m, in \u001b[0;36mprime_number\u001b[0;34m()\u001b[0m\n\u001b[1;32m      7\u001b[0m         \u001b[38;5;28;01mbreak\u001b[39;00m \n\u001b[1;32m      8\u001b[0m \u001b[38;5;28;01melse\u001b[39;00m :\n\u001b[0;32m----> 9\u001b[0m     \u001b[43mprime_number\u001b[49m\u001b[43m(\u001b[49m\u001b[43mnum\u001b[49m\u001b[43m)\u001b[49m\n\u001b[1;32m     10\u001b[0m     \u001b[38;5;28;01myield\u001b[39;00m num \n\u001b[1;32m     11\u001b[0m num \u001b[38;5;241m+\u001b[39m\u001b[38;5;241m=\u001b[39m \u001b[38;5;241m1\u001b[39m\n",
      "\u001b[0;31mTypeError\u001b[0m: prime_number() takes 0 positional arguments but 1 was given"
     ]
    }
   ],
   "source": [
    "\" sorry! sir  i don't know ans 5 and 6. "
   ]
  },
  {
   "cell_type": "code",
   "execution_count": 11,
   "id": "e5c2c327-61cc-48a8-a7ae-2140f4d5a164",
   "metadata": {},
   "outputs": [],
   "source": [
    "# 6 ans :-"
   ]
  },
  {
   "cell_type": "code",
   "execution_count": 12,
   "id": "5c2ae548-55d2-4594-86c7-1d25f4460bcd",
   "metadata": {},
   "outputs": [
    {
     "name": "stdout",
     "output_type": "stream",
     "text": [
      "0\n",
      "1\n",
      "1\n",
      "2\n",
      "3\n",
      "5\n",
      "8\n",
      "13\n",
      "21\n",
      "34\n"
     ]
    }
   ],
   "source": [
    "number = 10\n",
    "a, b, counter = 0 , 1, 0 \n",
    "while counter < number :\n",
    "    print(a)\n",
    "    c = a + b\n",
    "    a = b \n",
    "    b = c \n",
    "    counter += 1\n",
    "    "
   ]
  },
  {
   "cell_type": "code",
   "execution_count": 3,
   "id": "aa70a833-e0e9-495a-84dc-c2b83a80d7ae",
   "metadata": {},
   "outputs": [],
   "source": [
    "# 7 ans :-"
   ]
  },
  {
   "cell_type": "code",
   "execution_count": 8,
   "id": "69757b43-41db-453b-ac3e-1621df30d4a9",
   "metadata": {},
   "outputs": [
    {
     "name": "stdout",
     "output_type": "stream",
     "text": [
      "['p', 'w', 's', 'k', 'i', 'l', 'l', 's']\n"
     ]
    }
   ],
   "source": [
    "string = 'pwskills' \n",
    "char = []\n",
    "for i in string :\n",
    "    char.append(i)\n",
    "print(char)"
   ]
  },
  {
   "cell_type": "code",
   "execution_count": 9,
   "id": "ec290e20-72a7-45a3-912b-2a6026616547",
   "metadata": {},
   "outputs": [],
   "source": [
    "# 8.ans :-"
   ]
  },
  {
   "cell_type": "code",
   "execution_count": 16,
   "id": "90a278c1-47a2-4e5d-8c24-948c7782c44f",
   "metadata": {},
   "outputs": [
    {
     "name": "stdin",
     "output_type": "stream",
     "text": [
      "Enter a number 12321\n"
     ]
    },
    {
     "name": "stdout",
     "output_type": "stream",
     "text": [
      "12321 is a palindrome number\n"
     ]
    }
   ],
   "source": [
    "# palindrom number \n",
    "number = int(input(\"Enter a number\"))\n",
    "temp = number \n",
    "reverse = 0 \n",
    "while temp > 0 :\n",
    "    remainder = temp % 10 \n",
    "    reverse = (reverse * 10 ) +remainder\n",
    "    temp = temp // 10\n",
    "if number == reverse :\n",
    "    print(number, \"is a palindrome number\")\n",
    "else :\n",
    "    print(number, \"is not palindrom number\")"
   ]
  },
  {
   "cell_type": "code",
   "execution_count": 20,
   "id": "c6d98e9e-65ed-410c-87e0-5eade575dca1",
   "metadata": {},
   "outputs": [
    {
     "name": "stdout",
     "output_type": "stream",
     "text": [
      "[1, 3, 5, 7, 9, 11, 13, 15, 17, 19, 21, 23, 25, 27, 29, 31, 33, 35, 37, 39, 41, 43, 45, 47, 49, 51, 53, 55, 57, 59, 61, 63, 65, 67, 69, 71, 73, 75, 77, 79, 81, 83, 85, 87, 89, 91, 93, 95, 97, 99]\n"
     ]
    }
   ],
   "source": [
    "number = [x for x in range(1, 101)]\n",
    "odd_number = [i for i in number if i % 2 != 0]\n",
    "print(odd_number)"
   ]
  },
  {
   "cell_type": "code",
   "execution_count": null,
   "id": "a4d0ac0b-fb4c-4aec-8be8-b2298160bdac",
   "metadata": {},
   "outputs": [],
   "source": []
  }
 ],
 "metadata": {
  "kernelspec": {
   "display_name": "Python 3 (ipykernel)",
   "language": "python",
   "name": "python3"
  },
  "language_info": {
   "codemirror_mode": {
    "name": "ipython",
    "version": 3
   },
   "file_extension": ".py",
   "mimetype": "text/x-python",
   "name": "python",
   "nbconvert_exporter": "python",
   "pygments_lexer": "ipython3",
   "version": "3.10.8"
  }
 },
 "nbformat": 4,
 "nbformat_minor": 5
}
